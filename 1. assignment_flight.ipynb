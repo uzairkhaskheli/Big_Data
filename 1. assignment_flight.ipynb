{
 "cells": [
  {
   "cell_type": "code",
   "execution_count": null,
   "id": "830cb009-94f2-4f1c-b384-a700c11a04f8",
   "metadata": {},
   "outputs": [],
   "source": [
    "import pyspark\n",
    "from pyspark import SparkContext, SparkConf\n",
    "from pyspark.sql import SparkSession\n",
    "import pandas as pd\n",
    "from pyspark.sql.functions import col,max,count,sum,mean,stddev_pop,hour,countDistinct,expr,stddev,window,column\n",
    "from pyspark.ml.feature import RFormula\n",
    "from pyspark.ml.classification import LogisticRegression\n",
    "from pyspark.sql import Row\n",
    "import math"
   ]
  },
  {
   "cell_type": "code",
   "execution_count": 2,
   "id": "8ec9adc5-3f79-4465-b865-2d16f79aae77",
   "metadata": {},
   "outputs": [],
   "source": [
    "# sc.stop()\n",
    "\n",
    "# Initialization of SparkConf which is required for Spark Context\n",
    "conf = SparkConf().setAppName('myapp').setMaster('local')\n",
    "\n",
    "# Initialization of SparkContext\n",
    "sc = SparkContext().getOrCreate(conf=conf)\n",
    "sc.setLogLevel(\"OFF\")\n",
    "\n",
    "# Initialization of SparkSession into spark variable\n",
    "spark = SparkSession(sc)"
   ]
  },
  {
   "cell_type": "markdown",
   "id": "ce5955fe-c2a7-4844-a444-be61bf8762b9",
   "metadata": {
    "tags": []
   },
   "source": [
    "### Reading CSV file from the same folder where this notebook file exists"
   ]
  },
  {
   "cell_type": "code",
   "execution_count": 7,
   "id": "0ae31c15-8c48-4839-b3de-45602e1d14cd",
   "metadata": {},
   "outputs": [
    {
     "name": "stdout",
     "output_type": "stream",
     "text": [
      "root\n",
      " |-- DEST_COUNTRY_NAME: string (nullable = true)\n",
      " |-- ORIGIN_COUNTRY_NAME: string (nullable = true)\n",
      " |-- count: integer (nullable = true)\n",
      "\n"
     ]
    }
   ],
   "source": [
    "df = spark.read.csv('summary.csv', inferSchema=True, header=True)\n",
    "df.printSchema()\n",
    "#df.dtypes  # may provide wrong solution because it is not from pyspark API"
   ]
  },
  {
   "cell_type": "markdown",
   "id": "1ab311a3-5352-4232-8467-45017c70d365",
   "metadata": {
    "tags": []
   },
   "source": [
    "### Find the maximum number of flights from Origin country to Destination country by reading flightdata"
   ]
  },
  {
   "cell_type": "code",
   "execution_count": 8,
   "id": "bc099087-16cf-4ab7-9eb1-0b15ead554b9",
   "metadata": {},
   "outputs": [
    {
     "data": {
      "text/html": [
       "<div>\n",
       "<style scoped>\n",
       "    .dataframe tbody tr th:only-of-type {\n",
       "        vertical-align: middle;\n",
       "    }\n",
       "\n",
       "    .dataframe tbody tr th {\n",
       "        vertical-align: top;\n",
       "    }\n",
       "\n",
       "    .dataframe thead th {\n",
       "        text-align: right;\n",
       "    }\n",
       "</style>\n",
       "<table border=\"1\" class=\"dataframe\">\n",
       "  <thead>\n",
       "    <tr style=\"text-align: right;\">\n",
       "      <th></th>\n",
       "      <th>DEST_COUNTRY_NAME</th>\n",
       "      <th>ORIGIN_COUNTRY_NAME</th>\n",
       "      <th>count</th>\n",
       "    </tr>\n",
       "  </thead>\n",
       "  <tbody>\n",
       "    <tr>\n",
       "      <th>0</th>\n",
       "      <td>United States</td>\n",
       "      <td>Romania</td>\n",
       "      <td>15</td>\n",
       "    </tr>\n",
       "    <tr>\n",
       "      <th>1</th>\n",
       "      <td>United States</td>\n",
       "      <td>Croatia</td>\n",
       "      <td>1</td>\n",
       "    </tr>\n",
       "    <tr>\n",
       "      <th>2</th>\n",
       "      <td>United States</td>\n",
       "      <td>Ireland</td>\n",
       "      <td>344</td>\n",
       "    </tr>\n",
       "    <tr>\n",
       "      <th>3</th>\n",
       "      <td>Egypt</td>\n",
       "      <td>United States</td>\n",
       "      <td>15</td>\n",
       "    </tr>\n",
       "    <tr>\n",
       "      <th>4</th>\n",
       "      <td>United States</td>\n",
       "      <td>India</td>\n",
       "      <td>62</td>\n",
       "    </tr>\n",
       "    <tr>\n",
       "      <th>...</th>\n",
       "      <td>...</td>\n",
       "      <td>...</td>\n",
       "      <td>...</td>\n",
       "    </tr>\n",
       "    <tr>\n",
       "      <th>251</th>\n",
       "      <td>United States</td>\n",
       "      <td>Saint Kitts and Nevis</td>\n",
       "      <td>145</td>\n",
       "    </tr>\n",
       "    <tr>\n",
       "      <th>252</th>\n",
       "      <td>Uruguay</td>\n",
       "      <td>United States</td>\n",
       "      <td>43</td>\n",
       "    </tr>\n",
       "    <tr>\n",
       "      <th>253</th>\n",
       "      <td>United States</td>\n",
       "      <td>Haiti</td>\n",
       "      <td>225</td>\n",
       "    </tr>\n",
       "    <tr>\n",
       "      <th>254</th>\n",
       "      <td>Bonaire, Sint Eustatius, and Saba</td>\n",
       "      <td>United States</td>\n",
       "      <td>58</td>\n",
       "    </tr>\n",
       "    <tr>\n",
       "      <th>255</th>\n",
       "      <td>Greece</td>\n",
       "      <td>United States</td>\n",
       "      <td>30</td>\n",
       "    </tr>\n",
       "  </tbody>\n",
       "</table>\n",
       "<p>256 rows × 3 columns</p>\n",
       "</div>"
      ],
      "text/plain": [
       "                     DEST_COUNTRY_NAME    ORIGIN_COUNTRY_NAME  count\n",
       "0                        United States                Romania     15\n",
       "1                        United States                Croatia      1\n",
       "2                        United States                Ireland    344\n",
       "3                                Egypt          United States     15\n",
       "4                        United States                  India     62\n",
       "..                                 ...                    ...    ...\n",
       "251                      United States  Saint Kitts and Nevis    145\n",
       "252                            Uruguay          United States     43\n",
       "253                      United States                  Haiti    225\n",
       "254  Bonaire, Sint Eustatius, and Saba          United States     58\n",
       "255                             Greece          United States     30\n",
       "\n",
       "[256 rows x 3 columns]"
      ]
     },
     "execution_count": 8,
     "metadata": {},
     "output_type": "execute_result"
    }
   ],
   "source": [
    "df.toPandas()"
   ]
  },
  {
   "cell_type": "code",
   "execution_count": 9,
   "id": "611524b4-175c-4c4e-9f54-4e41d8f6f199",
   "metadata": {},
   "outputs": [
    {
     "name": "stdout",
     "output_type": "stream",
     "text": [
      "+-----------+\n",
      "|Max Flights|\n",
      "+-----------+\n",
      "|     370002|\n",
      "+-----------+\n",
      "\n"
     ]
    }
   ],
   "source": [
    "df.select(max(col('count')).alias('Max Flights')).show()"
   ]
  },
  {
   "cell_type": "markdown",
   "id": "0361c8d1-7b35-4a80-a3d6-32128dee059a",
   "metadata": {
    "tags": []
   },
   "source": [
    "### Count those rows where number of flights going from Origin country to Destination country are greater than 10 by reading flightdata again"
   ]
  },
  {
   "cell_type": "code",
   "execution_count": 11,
   "id": "f14735f2-eb9b-4561-8635-558e5022fc39",
   "metadata": {},
   "outputs": [
    {
     "name": "stdout",
     "output_type": "stream",
     "text": [
      "+----+\n",
      "|haha|\n",
      "+----+\n",
      "| 208|\n",
      "+----+\n",
      "\n",
      "+----+\n",
      "|haha|\n",
      "+----+\n",
      "| 208|\n",
      "+----+\n",
      "\n"
     ]
    },
    {
     "data": {
      "text/plain": [
       "208"
      ]
     },
     "execution_count": 11,
     "metadata": {},
     "output_type": "execute_result"
    }
   ],
   "source": [
    "df.where(col('count') > 10).select(count('*').alias('haha')).show()\n",
    "df.where(expr('count > 10')).select(expr('count(*) AS haha')).show()\n",
    "df.where('count > 10').count()\n",
    "df.filter('count > 10').count()"
   ]
  },
  {
   "cell_type": "markdown",
   "id": "d8447de2-0bdb-43d6-9fd8-af4abc8370d9",
   "metadata": {},
   "source": [
    "### Count total number of flights having destination country name is United States"
   ]
  },
  {
   "cell_type": "code",
   "execution_count": 12,
   "id": "db39d699-3d40-46de-a350-a79be3355d42",
   "metadata": {},
   "outputs": [
    {
     "name": "stdout",
     "output_type": "stream",
     "text": [
      "+------+\n",
      "|   sum|\n",
      "+------+\n",
      "|411352|\n",
      "+------+\n",
      "\n",
      "+-----------------+------+\n",
      "|DEST_COUNTRY_NAME|   sum|\n",
      "+-----------------+------+\n",
      "|    United States|411352|\n",
      "+-----------------+------+\n",
      "\n",
      "+----------+\n",
      "|sum(count)|\n",
      "+----------+\n",
      "|    411352|\n",
      "+----------+\n",
      "\n",
      "+----------+\n",
      "|sum(count)|\n",
      "+----------+\n",
      "|    411352|\n",
      "+----------+\n",
      "\n"
     ]
    }
   ],
   "source": [
    "df.where(col('DEST_COUNTRY_NAME') == 'United States').agg(sum('count').alias('sum')).show()\n",
    "df.groupBy('DEST_COUNTRY_NAME').agg(sum('count').alias('sum')).where(\"DEST_COUNTRY_NAME = 'United States'\").show()\n",
    "df.filter(\"DEST_COUNTRY_NAME = 'United States'\").agg(sum('count')).show()\n",
    "df.filter(\"DEST_COUNTRY_NAME = 'United States'\").agg({\"count\" : \"sum\"}).show()"
   ]
  }
 ],
 "metadata": {
  "kernelspec": {
   "display_name": "Python 3 (ipykernel)",
   "language": "python",
   "name": "python3"
  },
  "language_info": {
   "codemirror_mode": {
    "name": "ipython",
    "version": 3
   },
   "file_extension": ".py",
   "mimetype": "text/x-python",
   "name": "python",
   "nbconvert_exporter": "python",
   "pygments_lexer": "ipython3",
   "version": "3.9.7"
  }
 },
 "nbformat": 4,
 "nbformat_minor": 5
}
